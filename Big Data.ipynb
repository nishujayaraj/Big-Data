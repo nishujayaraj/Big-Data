{
 "cells": [
  {
   "cell_type": "code",
   "execution_count": 2,
   "metadata": {},
   "outputs": [],
   "source": [
    "import findspark\n",
    "findspark.init()\n",
    "import pyspark as ps\n",
    "import warnings\n",
    "from pyspark.sql import SQLContext"
   ]
  },
  {
   "cell_type": "code",
   "execution_count": 3,
   "metadata": {},
   "outputs": [
    {
     "name": "stdout",
     "output_type": "stream",
     "text": [
      "Just created a SparkContext\n"
     ]
    }
   ],
   "source": [
    "try:\n",
    "    sc = ps.SparkContext('local[*]')\n",
    "    sqlContext = SQLContext(sc)\n",
    "    print(\"Just created a SparkContext\")\n",
    "except ValueError:\n",
    "    warnings.warn(\"SparkContext already exists in this scope\")"
   ]
  },
  {
   "cell_type": "code",
   "execution_count": 4,
   "metadata": {},
   "outputs": [
    {
     "data": {
      "text/plain": [
       "'local[*]'"
      ]
     },
     "execution_count": 4,
     "metadata": {},
     "output_type": "execute_result"
    }
   ],
   "source": [
    "sc.master"
   ]
  },
  {
   "cell_type": "code",
   "execution_count": 5,
   "metadata": {},
   "outputs": [],
   "source": [
    "df = sqlContext.read.format('com.databricks.spark.csv').options(header='true', inferschema='true').load('clean_tweet.csv')"
   ]
  },
  {
   "cell_type": "code",
   "execution_count": 6,
   "metadata": {},
   "outputs": [
    {
     "data": {
      "text/plain": [
       "pyspark.sql.dataframe.DataFrame"
      ]
     },
     "execution_count": 6,
     "metadata": {},
     "output_type": "execute_result"
    }
   ],
   "source": [
    "type(df)"
   ]
  },
  {
   "cell_type": "code",
   "execution_count": 7,
   "metadata": {},
   "outputs": [
    {
     "name": "stdout",
     "output_type": "stream",
     "text": [
      "+---+--------------------+------+\n",
      "|_c0|                text|target|\n",
      "+---+--------------------+------+\n",
      "|  0|awww that s a bum...|     0|\n",
      "|  1|is upset that he ...|     0|\n",
      "|  2|i dived many time...|     0|\n",
      "|  3|my whole body fee...|     0|\n",
      "|  4|no it s not behav...|     0|\n",
      "+---+--------------------+------+\n",
      "only showing top 5 rows\n",
      "\n"
     ]
    }
   ],
   "source": [
    "df.show(5)"
   ]
  },
  {
   "cell_type": "code",
   "execution_count": 8,
   "metadata": {},
   "outputs": [],
   "source": [
    "df = df.dropna()"
   ]
  },
  {
   "cell_type": "code",
   "execution_count": 9,
   "metadata": {},
   "outputs": [
    {
     "data": {
      "text/plain": [
       "1596753"
      ]
     },
     "execution_count": 9,
     "metadata": {},
     "output_type": "execute_result"
    }
   ],
   "source": [
    "df.count()"
   ]
  },
  {
   "cell_type": "code",
   "execution_count": 10,
   "metadata": {},
   "outputs": [],
   "source": [
    "(train_set, val_set, test_set) = df.randomSplit([0.98, 0.01, 0.01], seed = 2000)"
   ]
  },
  {
   "cell_type": "code",
   "execution_count": 11,
   "metadata": {},
   "outputs": [],
   "source": [
    "from pyspark.ml.feature import HashingTF, IDF, Tokenizer, CountVectorizer\n",
    "from pyspark.ml.feature import StringIndexer\n",
    "from pyspark.ml import Pipeline\n",
    "from pyspark.ml.classification import LogisticRegression\n",
    "from pyspark.ml.evaluation import BinaryClassificationEvaluator"
   ]
  },
  {
   "cell_type": "code",
   "execution_count": 12,
   "metadata": {},
   "outputs": [
    {
     "name": "stdout",
     "output_type": "stream",
     "text": [
      "+---+--------------------+------+--------------------+--------------------+--------------------+-----+\n",
      "|_c0|                text|target|               words|                  tf|            features|label|\n",
      "+---+--------------------+------+--------------------+--------------------+--------------------+-----+\n",
      "|  0|awww that s a bum...|     0|[awww, that, s, a...|(65536,[18354,216...|(65536,[18354,216...|  0.0|\n",
      "|  1|is upset that he ...|     0|[is, upset, that,...|(65536,[1981,3085...|(65536,[1981,3085...|  0.0|\n",
      "|  2|i dived many time...|     0|[i, dived, many, ...|(65536,[2548,2888...|(65536,[2548,2888...|  0.0|\n",
      "|  3|my whole body fee...|     0|[my, whole, body,...|(65536,[1880,9243...|(65536,[1880,9243...|  0.0|\n",
      "|  4|no it s not behav...|     0|[no, it, s, not, ...|(65536,[1968,8538...|(65536,[1968,8538...|  0.0|\n",
      "+---+--------------------+------+--------------------+--------------------+--------------------+-----+\n",
      "only showing top 5 rows\n",
      "\n"
     ]
    }
   ],
   "source": [
    "from pyspark.ml.feature import HashingTF, IDF, Tokenizer\n",
    "from pyspark.ml.feature import StringIndexer\n",
    "from pyspark.ml import Pipeline\n",
    "\n",
    "tokenizer = Tokenizer(inputCol=\"text\", outputCol=\"words\")\n",
    "hashtf = HashingTF(numFeatures=2**16, inputCol=\"words\", outputCol='tf')\n",
    "idf = IDF(inputCol='tf', outputCol=\"features\", minDocFreq=5) \n",
    "label_stringIdx = StringIndexer(inputCol = \"target\", outputCol = \"label\")\n",
    "pipeline = Pipeline(stages=[tokenizer, hashtf, idf, label_stringIdx])\n",
    "\n",
    "pipelineFit = pipeline.fit(train_set)\n",
    "train_df = pipelineFit.transform(train_set)\n",
    "val_df = pipelineFit.transform(val_set)\n",
    "train_df.show(5)"
   ]
  },
  {
   "cell_type": "code",
   "execution_count": 13,
   "metadata": {},
   "outputs": [],
   "source": [
    "from pyspark.ml.classification import LogisticRegression\n",
    "lr = LogisticRegression(maxIter=100)\n",
    "lrModel = lr.fit(train_df)\n",
    "predictions = lrModel.transform(val_df)"
   ]
  },
  {
   "cell_type": "code",
   "execution_count": 14,
   "metadata": {},
   "outputs": [
    {
     "data": {
      "text/plain": [
       "0.8590547715995486"
      ]
     },
     "execution_count": 14,
     "metadata": {},
     "output_type": "execute_result"
    }
   ],
   "source": [
    "from pyspark.ml.evaluation import BinaryClassificationEvaluator\n",
    "evaluator = BinaryClassificationEvaluator(rawPredictionCol=\"rawPrediction\")\n",
    "evaluator.evaluate(predictions)"
   ]
  },
  {
   "cell_type": "code",
   "execution_count": 15,
   "metadata": {},
   "outputs": [
    {
     "data": {
      "text/plain": [
       "'areaUnderROC'"
      ]
     },
     "execution_count": 15,
     "metadata": {},
     "output_type": "execute_result"
    }
   ],
   "source": [
    "evaluator.getMetricName()"
   ]
  },
  {
   "cell_type": "code",
   "execution_count": 16,
   "metadata": {},
   "outputs": [
    {
     "data": {
      "text/plain": [
       "0.7885545574470758"
      ]
     },
     "execution_count": 16,
     "metadata": {},
     "output_type": "execute_result"
    }
   ],
   "source": [
    "accuracy = predictions.filter(predictions.label == predictions.prediction).count() / float(val_set.count())\n",
    "accuracy"
   ]
  },
  {
   "cell_type": "code",
   "execution_count": 17,
   "metadata": {},
   "outputs": [
    {
     "name": "stdout",
     "output_type": "stream",
     "text": [
      "Accuracy Score: 0.7979\n",
      "ROC-AUC: 0.8649\n",
      "Wall time: 49.1 s\n"
     ]
    }
   ],
   "source": [
    "%%time\n",
    "from pyspark.ml.feature import CountVectorizer\n",
    "\n",
    "tokenizer = Tokenizer(inputCol=\"text\", outputCol=\"words\")\n",
    "cv = CountVectorizer(vocabSize=2**16, inputCol=\"words\", outputCol='cv')\n",
    "idf = IDF(inputCol='cv', outputCol=\"features\", minDocFreq=5) \n",
    "label_stringIdx = StringIndexer(inputCol = \"target\", outputCol = \"label\")\n",
    "lr = LogisticRegression(maxIter=100)\n",
    "pipeline = Pipeline(stages=[tokenizer, cv, idf, label_stringIdx, lr])\n",
    "\n",
    "pipelineFit = pipeline.fit(train_set)\n",
    "predictions = pipelineFit.transform(val_set)\n",
    "accuracy = predictions.filter(predictions.label == predictions.prediction).count() / float(val_set.count())\n",
    "roc_auc = evaluator.evaluate(predictions)\n",
    "\n",
    "print(\"Accuracy Score: {0:.4f}\".format(accuracy))\n",
    "print(\"ROC-AUC: {0:.4f}\".format(roc_auc))"
   ]
  },
  {
   "cell_type": "code",
   "execution_count": 18,
   "metadata": {},
   "outputs": [],
   "source": [
    "from pyspark.ml.feature import NGram, VectorAssembler\n",
    "from pyspark.ml.feature import ChiSqSelector\n",
    "\n",
    "def build_trigrams(inputCol=[\"text\",\"target\"], n=3):\n",
    "    tokenizer = [Tokenizer(inputCol=\"text\", outputCol=\"words\")]\n",
    "    ngrams = [\n",
    "        NGram(n=i, inputCol=\"words\", outputCol=\"{0}_grams\".format(i))\n",
    "        for i in range(1, n + 1)\n",
    "    ]\n",
    "\n",
    "    cv = [\n",
    "        CountVectorizer(vocabSize=2**14,inputCol=\"{0}_grams\".format(i),\n",
    "            outputCol=\"{0}_tf\".format(i))\n",
    "        for i in range(1, n + 1)\n",
    "    ]\n",
    "    idf = [IDF(inputCol=\"{0}_tf\".format(i), outputCol=\"{0}_tfidf\".format(i), minDocFreq=5) for i in range(1, n + 1)]\n",
    "\n",
    "    assembler = [VectorAssembler(\n",
    "        inputCols=[\"{0}_tfidf\".format(i) for i in range(1, n + 1)],\n",
    "        outputCol=\"rawFeatures\"\n",
    "    )]\n",
    "    label_stringIdx = [StringIndexer(inputCol = \"target\", outputCol = \"label\")]\n",
    "    selector = [ChiSqSelector(numTopFeatures=2**14,featuresCol='rawFeatures', outputCol=\"features\")]\n",
    "    lr = [LogisticRegression(maxIter=100)]\n",
    "    return Pipeline(stages=tokenizer + ngrams + cv + idf+ assembler + label_stringIdx+selector+lr)"
   ]
  },
  {
   "cell_type": "code",
   "execution_count": 19,
   "metadata": {},
   "outputs": [
    {
     "name": "stdout",
     "output_type": "stream",
     "text": [
      "Accuracy Score: 0.8132\n",
      "ROC-AUC: 0.8874\n",
      "Wall time: 10min 5s\n"
     ]
    }
   ],
   "source": [
    "%%time\n",
    "trigram_pipelineFit = build_trigrams().fit(train_set)\n",
    "predictions = trigram_pipelineFit.transform(val_set)\n",
    "accuracy = predictions.filter(predictions.label == predictions.prediction).count() / float(val_set.count())\n",
    "roc_auc = evaluator.evaluate(predictions)\n",
    "\n",
    "\n",
    "print(\"Accuracy Score: {0:.4f}\".format(accuracy))\n",
    "print(\"ROC-AUC: {0:.4f}\".format(roc_auc))"
   ]
  },
  {
   "cell_type": "code",
   "execution_count": 20,
   "metadata": {},
   "outputs": [],
   "source": [
    "from pyspark.ml.feature import NGram, VectorAssembler\n",
    "\n",
    "def build_ngrams_wocs(inputCol=[\"text\",\"target\"], n=3):\n",
    "    tokenizer = [Tokenizer(inputCol=\"text\", outputCol=\"words\")]\n",
    "    ngrams = [\n",
    "        NGram(n=i, inputCol=\"words\", outputCol=\"{0}_grams\".format(i))\n",
    "        for i in range(1, n + 1)\n",
    "    ]\n",
    "\n",
    "    cv = [\n",
    "        CountVectorizer(vocabSize=5460,inputCol=\"{0}_grams\".format(i),\n",
    "            outputCol=\"{0}_tf\".format(i))\n",
    "        for i in range(1, n + 1)\n",
    "    ]\n",
    "    idf = [IDF(inputCol=\"{0}_tf\".format(i), outputCol=\"{0}_tfidf\".format(i), minDocFreq=5) for i in range(1, n + 1)]\n",
    "\n",
    "    assembler = [VectorAssembler(\n",
    "        inputCols=[\"{0}_tfidf\".format(i) for i in range(1, n + 1)],\n",
    "        outputCol=\"features\"\n",
    "    )]\n",
    "    label_stringIdx = [StringIndexer(inputCol = \"target\", outputCol = \"label\")]\n",
    "    lr = [LogisticRegression(maxIter=100)]\n",
    "    return Pipeline(stages=tokenizer + ngrams + cv + idf+ assembler + label_stringIdx+lr)"
   ]
  },
  {
   "cell_type": "code",
   "execution_count": 21,
   "metadata": {},
   "outputs": [
    {
     "name": "stdout",
     "output_type": "stream",
     "text": [
      "Accuracy Score: 0.8139\n",
      "ROC-AUC: 0.8861\n",
      "Wall time: 3min 11s\n"
     ]
    }
   ],
   "source": [
    "%%time\n",
    "\n",
    "trigramwocs_pipelineFit = build_ngrams_wocs().fit(train_set)\n",
    "predictions_wocs = trigramwocs_pipelineFit.transform(val_set)\n",
    "accuracy_wocs = predictions_wocs.filter(predictions_wocs.label == predictions_wocs.prediction).count() / float(val_set.count())\n",
    "roc_auc_wocs = evaluator.evaluate(predictions_wocs)\n",
    "\n",
    "\n",
    "print(\"Accuracy Score: {0:.4f}\".format(accuracy_wocs))\n",
    "print(\"ROC-AUC: {0:.4f}\".format(roc_auc_wocs))"
   ]
  },
  {
   "cell_type": "code",
   "execution_count": 22,
   "metadata": {},
   "outputs": [
    {
     "name": "stdout",
     "output_type": "stream",
     "text": [
      "Accuracy Score: 0.8172\n",
      "ROC-AUC: 0.8897\n"
     ]
    }
   ],
   "source": [
    "test_predictions = trigramwocs_pipelineFit.transform(test_set)\n",
    "test_accuracy = test_predictions.filter(test_predictions.label == test_predictions.prediction).count() / float(test_set.count())\n",
    "test_roc_auc = evaluator.evaluate(test_predictions)\n",
    "\n",
    "\n",
    "print(\"Accuracy Score: {0:.4f}\".format(test_accuracy))\n",
    "print(\"ROC-AUC: {0:.4f}\".format(test_roc_auc))"
   ]
  },
  {
   "cell_type": "code",
   "execution_count": 34,
   "metadata": {},
   "outputs": [],
   "source": [
    "tdf = sqlContext.read.format('com.databricks.spark.csv').options(header='true', inferschema='true').load('testtweet.csv')"
   ]
  },
  {
   "cell_type": "code",
   "execution_count": 36,
   "metadata": {},
   "outputs": [
    {
     "name": "stdout",
     "output_type": "stream",
     "text": [
      "+---+----------------------------------------------------------------------------------------------------------------------------------------------+----------------------------------------------------------------------------------------------------------------------------------------------------------------------+----------------------------------------------------------------------------------------------------------------------------------------------------------------------+--------------------------------------------------------------------------------------------------------------------------------------------------------------------------------------------------------------------------------------------------------------------------------------------------------+--------------------------------------------------------------------------------------------------------------------------------------------------------------------------------------------------------------------------------------------------------------------------------------------------------------------------------------------------------------------------------------------------------------------------------+----------------------------------------------------------------------------------------------------------------------------+---------------------------------------------------------------+---------------------------+-------------------------------------------------------------------------------------------------------------------------------------------------------------------------------------------------------------------------------------------------------------------------------------------------------------------------------------------------+-------------------------------------------------------------------------------------------------------------------------------------------------+-------------------------------------------------------+-----------------------------------------------------------------------------------------------------------------------------------------------------------------------------------------------------------------------------------------------------------------------------------------------------------------------------------------------------------------------------------------------------------------------------------------------------------------------------------------------+------------------------------------------+----------------------------------------+----------+\n",
      "|_c0|text                                                                                                                                          |words                                                                                                                                                                 |1_grams                                                                                                                                                               |2_grams                                                                                                                                                                                                                                                                                                 |3_grams                                                                                                                                                                                                                                                                                                                                                                                                                         |1_tf                                                                                                                        |2_tf                                                           |3_tf                       |1_tfidf                                                                                                                                                                                                                                                                                                                                          |2_tfidf                                                                                                                                          |3_tfidf                                                |features                                                                                                                                                                                                                                                                                                                                                                                                                                                                                       |rawPrediction                             |probability                             |prediction|\n",
      "+---+----------------------------------------------------------------------------------------------------------------------------------------------+----------------------------------------------------------------------------------------------------------------------------------------------------------------------+----------------------------------------------------------------------------------------------------------------------------------------------------------------------+--------------------------------------------------------------------------------------------------------------------------------------------------------------------------------------------------------------------------------------------------------------------------------------------------------+--------------------------------------------------------------------------------------------------------------------------------------------------------------------------------------------------------------------------------------------------------------------------------------------------------------------------------------------------------------------------------------------------------------------------------+----------------------------------------------------------------------------------------------------------------------------+---------------------------------------------------------------+---------------------------+-------------------------------------------------------------------------------------------------------------------------------------------------------------------------------------------------------------------------------------------------------------------------------------------------------------------------------------------------+-------------------------------------------------------------------------------------------------------------------------------------------------+-------------------------------------------------------+-----------------------------------------------------------------------------------------------------------------------------------------------------------------------------------------------------------------------------------------------------------------------------------------------------------------------------------------------------------------------------------------------------------------------------------------------------------------------------------------------+------------------------------------------+----------------------------------------+----------+\n",
      "|0  |mystery coin is an experiment in decentralized spontaneous community building our token allows users to hold trillion                         |[mystery, coin, is, an, experiment, in, decentralized, spontaneous, community, building, our, token, allows, users, to, hold, trillion]                               |[mystery, coin, is, an, experiment, in, decentralized, spontaneous, community, building, our, token, allows, users, to, hold, trillion]                               |[mystery coin, coin is, is an, an experiment, experiment in, in decentralized, decentralized spontaneous, spontaneous community, community building, building our, our token, token allows, allows users, users to, to hold, hold trillion]                                                             |[mystery coin is, coin is an, is an experiment, an experiment in, experiment in decentralized, in decentralized spontaneous, decentralized spontaneous community, spontaneous community building, community building our, building our token, our token allows, token allows users, allows users to, users to hold, to hold trillion]                                                                                           |(5460,[1,8,9,92,185,1073,1857,2639,3189,4613],[1.0,1.0,1.0,1.0,1.0,1.0,1.0,1.0,1.0,1.0])                                    |(5460,[1591],[1.0])                                            |(5460,[],[])               |(5460,[1,8,9,92,185,1073,1857,2639,3189,4613],[1.248161111474001,1.9817246240792892,2.078293877707609,3.836176305864906,4.685777096338702,6.821420002916892,7.555242647115447,8.01915983030478,8.32579052588609,8.829604727414276])                                                                                                              |(5460,[1591],[7.2851129883378185])                                                                                                               |(5460,[],[])                                           |(16380,[1,8,9,92,185,1073,1857,2639,3189,4613,7051],[1.248161111474001,1.9817246240792892,2.078293877707609,3.836176305864906,4.685777096338702,6.821420002916892,7.555242647115447,8.01915983030478,8.32579052588609,8.829604727414276,7.2851129883378185])                                                                                                                                                                                                                                   |[-1.5195365657471451,1.5195365657471451]  |[0.17952977259413314,0.8204702274058668]|1.0       |\n",
      "|1  |infinity crypto is officially live you can now add liquidity to earn and trade shard and bsc tokens in an all in on                           |[infinity, crypto, is, officially, live, you, can, now, add, liquidity, to, earn, and, trade, shard, and, bsc, tokens, in, an, all, in, on]                           |[infinity, crypto, is, officially, live, you, can, now, add, liquidity, to, earn, and, trade, shard, and, bsc, tokens, in, an, all, in, on]                           |[infinity crypto, crypto is, is officially, officially live, live you, you can, can now, now add, add liquidity, liquidity to, to earn, earn and, and trade, trade shard, shard and, and bsc, bsc tokens, tokens in, in an, an all, all in, in on]                                                      |[infinity crypto is, crypto is officially, is officially live, officially live you, live you can, you can now, can now add, now add liquidity, add liquidity to, liquidity to earn, to earn and, earn and trade, and trade shard, trade shard and, shard and bsc, and bsc tokens, bsc tokens in, tokens in an, in an all, an all in, all in on]                                                                                 |(5460,[1,6,7,8,9,14,28,29,33,92,264,522,872,3123,3999],[1.0,2.0,1.0,1.0,2.0,1.0,1.0,1.0,1.0,1.0,1.0,1.0,1.0,1.0,1.0])       |(5460,[110,1335,2373,3148,4221,5454],[1.0,1.0,1.0,1.0,1.0,1.0])|(5460,[],[])               |(5460,[1,6,7,8,9,14,28,29,33,92,264,522,872,3123,3999],[1.248161111474001,3.5383841703365526,1.87589549214495,1.9817246240792892,4.156587755415218,2.3102256002147286,2.8524561402029605,2.875703751993418,2.990182458465521,3.836176305864906,5.0616235523879975,5.86626934079226,6.532712664904777,8.269365303661948,8.61787983332528])        |(5460,[110,1335,2373,3148,4221,5454],[5.220222278368247,7.14369109295088,7.613047682381095,7.88659978306989,8.165252448802276,8.414001951021657])|(5460,[],[])                                           |(16380,[1,6,7,8,9,14,28,29,33,92,264,522,872,3123,3999,5570,6795,7833,8608,9681,10914],[1.248161111474001,3.5383841703365526,1.87589549214495,1.9817246240792892,4.156587755415218,2.3102256002147286,2.8524561402029605,2.875703751993418,2.990182458465521,3.836176305864906,5.0616235523879975,5.86626934079226,6.532712664904777,8.269365303661948,8.61787983332528,5.220222278368247,7.14369109295088,7.613047682381095,7.88659978306989,8.165252448802276,8.414001951021657])            |[-3.196437848242378,3.196437848242378]    |[0.03929999313975264,0.9607000068602474]|1.0       |\n",
      "|2  |com spacex dragon crs mission delivered the first ethereum crypto node to the space station for spacechain                                    |[com, spacex, dragon, crs, mission, delivered, the, first, ethereum, crypto, node, to, the, space, station, for, spacechain]                                          |[com, spacex, dragon, crs, mission, delivered, the, first, ethereum, crypto, node, to, the, space, station, for, spacechain]                                          |[com spacex, spacex dragon, dragon crs, crs mission, mission delivered, delivered the, the first, first ethereum, ethereum crypto, crypto node, node to, to the, the space, space station, station for, for spacechain]                                                                                 |[com spacex dragon, spacex dragon crs, dragon crs mission, crs mission delivered, mission delivered the, delivered the first, the first ethereum, first ethereum crypto, ethereum crypto node, crypto node to, node to the, to the space, the space station, space station for, station for spacechain]                                                                                                                         |(5460,[1,2,10,167,307,1385,1454,2535,3843,4940],[1.0,2.0,1.0,1.0,1.0,1.0,1.0,1.0,1.0,1.0])                                  |(5460,[16,248],[1.0,1.0])                                      |(5460,[],[])               |(5460,[1,2,10,167,307,1385,1454,2535,3843,4940],[1.248161111474001,2.633211332509638,2.068967419468726,4.569696385420864,5.190181598170179,7.178262437015969,7.236899922268881,7.9754681708067325,8.562883157577831,8.930607937703147])                                                                                                          |(5460,[16,248],[3.993322820462799,5.789667541576008])                                                                                            |(5460,[],[])                                           |(16380,[1,2,10,167,307,1385,1454,2535,3843,4940,5476,5708],[1.248161111474001,2.633211332509638,2.068967419468726,4.569696385420864,5.190181598170179,7.178262437015969,7.236899922268881,7.9754681708067325,8.562883157577831,8.930607937703147,3.993322820462799,5.789667541576008])                                                                                                                                                                                                         |[-1.9922870105741524,1.9922870105741524]  |[0.12001511789702136,0.8799848821029786]|1.0       |\n",
      "|3  |i wonder how long bitcoin will be a legal currency in el salvador is going against the bis federal res                                        |[i, wonder, how, long, bitcoin, will, be, a, legal, currency, in, el, salvador, is, going, against, the, bis, federal, res]                                           |[i, wonder, how, long, bitcoin, will, be, a, legal, currency, in, el, salvador, is, going, against, the, bis, federal, res]                                           |[i wonder, wonder how, how long, long bitcoin, bitcoin will, will be, be a, a legal, legal currency, currency in, in el, el salvador, salvador is, is going, going against, against the, the bis, bis federal, federal res]                                                                             |[i wonder how, wonder how long, how long bitcoin, long bitcoin will, bitcoin will be, will be a, be a legal, a legal currency, legal currency in, currency in el, in el salvador, el salvador is, salvador is going, is going against, going against the, against the bis, the bis federal, bis federal res]                                                                                                                    |(5460,[0,2,3,8,9,23,46,57,68,163,752,1371,2116,3588],[1.0,1.0,1.0,1.0,1.0,1.0,1.0,1.0,1.0,1.0,1.0,1.0,1.0,1.0])             |(5460,[60,103,154,1197,2084],[1.0,1.0,1.0,1.0,1.0])            |(5460,[519,3984],[1.0,1.0])|(5460,[0,2,3,8,9,23,46,57,68,163,752,1371,2116,3588],[0.8565079813148366,1.316605666254819,1.562256059875233,1.9817246240792892,2.078293877707609,2.6938697152626334,3.235494167868672,3.4561474821347486,3.6096030308883162,4.55755867740644,6.330605703486569,7.149370621402482,7.781749601692086,8.476429349601808])                          |(5460,[60,103,154,1197,2084],[4.7740675722107095,5.177529694066934,5.437766875907665,7.04735172831705,7.518090381484154])                        |(5460,[519,3984],[7.515740204139201,8.950120751926729])|(16380,[0,2,3,8,9,23,46,57,68,163,752,1371,2116,3588,5520,5563,5614,6657,7544,11439,14904],[0.8565079813148366,1.316605666254819,1.562256059875233,1.9817246240792892,2.078293877707609,2.6938697152626334,3.235494167868672,3.4561474821347486,3.6096030308883162,4.55755867740644,6.330605703486569,7.149370621402482,7.781749601692086,8.476429349601808,4.7740675722107095,5.177529694066934,5.437766875907665,7.04735172831705,7.518090381484154,7.515740204139201,8.950120751926729])    |[0.24623068508276713,-0.24623068508276713]|[0.561248527632374,0.438751472367626]   |0.0       |\n",
      "|4  |what are some good resources on crypto patents                                                                                                |[what, are, some, good, resources, on, crypto, patents]                                                                                                               |[what, are, some, good, resources, on, crypto, patents]                                                                                                               |[what are, are some, some good, good resources, resources on, on crypto, crypto patents]                                                                                                                                                                                                                |[what are some, are some good, some good resources, good resources on, resources on crypto, on crypto patents]                                                                                                                                                                                                                                                                                                                  |(5460,[14,31,37,49,65],[1.0,1.0,1.0,1.0,1.0])                                                                               |(5460,[1085,2136],[1.0,1.0])                                   |(5460,[],[])               |(5460,[14,31,37,49,65],[2.3102256002147286,2.903645689932831,3.0592388805228605,3.3215255230540808,3.5843519311502234])                                                                                                                                                                                                                          |(5460,[1085,2136],[6.964205268257717,7.526359772966661])                                                                                         |(5460,[],[])                                           |(16380,[14,31,37,49,65,6545,7596],[2.3102256002147286,2.903645689932831,3.0592388805228605,3.3215255230540808,3.5843519311502234,6.964205268257717,7.526359772966661])                                                                                                                                                                                                                                                                                                                         |[-0.9481604273291451,0.9481604273291451]  |[0.27925492533932766,0.7207450746606723]|1.0       |\n",
      "|5  |christian nice                                                                                                                                |[christian, nice]                                                                                                                                                     |[christian, nice]                                                                                                                                                     |[christian nice]                                                                                                                                                                                                                                                                                        |[]                                                                                                                                                                                                                                                                                                                                                                                                                              |(5460,[131,3457],[1.0,1.0])                                                                                                 |(5460,[],[])                                                   |(5460,[],[])               |(5460,[131,3457],[4.238196932450284,8.422685073595119])                                                                                                                                                                                                                                                                                          |(5460,[],[])                                                                                                                                     |(5460,[],[])                                           |(16380,[131,3457],[4.238196932450284,8.422685073595119])                                                                                                                                                                                                                                                                                                                                                                                                                                       |[-1.4221825746097538,1.4221825746097538]  |[0.19431965275640778,0.8056803472435923]|1.0       |\n",
      "|6  |great weather world class surfing beaches beach front properties for sale one of the few countries in the world w                             |[great, weather, world, class, surfing, beaches, beach, front, properties, for, sale, one, of, the, few, countries, in, the, world, w]                                |[great, weather, world, class, surfing, beaches, beach, front, properties, for, sale, one, of, the, few, countries, in, the, world, w]                                |[great weather, weather world, world class, class surfing, surfing beaches, beaches beach, beach front, front properties, properties for, for sale, sale one, one of, of the, the few, few countries, countries in, in the, the world, world w]                                                         |[great weather world, weather world class, world class surfing, class surfing beaches, surfing beaches beach, beaches beach front, beach front properties, front properties for, properties for sale, for sale one, sale one of, one of the, of the few, the few countries, few countries in, countries in the, in the world, the world w]                                                                                      |(5460,[2,9,10,13,56,98,247,273,298,303,422,431,939,1258,3628],[2.0,1.0,1.0,1.0,1.0,1.0,1.0,1.0,2.0,1.0,1.0,1.0,1.0,1.0,1.0])|(5460,[4,21,114,320],[1.0,1.0,1.0,1.0])                        |(5460,[91,197],[1.0,1.0])  |(5460,[2,9,10,13,56,98,247,273,298,303,422,431,939,1258,3628],[2.633211332509638,2.078293877707609,2.068967419468726,2.2365362658198733,3.430849421580825,3.8963253122176487,5.00858677169565,5.0662742533192695,10.287354448553675,5.161574299409233,5.611253057358461,5.636203480180083,6.625610298303718,7.049558422849875,8.476429349601808])|(5460,[4,21,114,320],[3.5772855746305563,4.170624765381263,5.246692474652926,5.996648287662621])                                                 |(5460,[91,197],[6.493948121454532,6.968949431679695])  |(16380,[2,9,10,13,56,98,247,273,298,303,422,431,939,1258,3628,5464,5481,5574,5780,11011,11117],[2.633211332509638,2.078293877707609,2.068967419468726,2.2365362658198733,3.430849421580825,3.8963253122176487,5.00858677169565,5.0662742533192695,10.287354448553675,5.161574299409233,5.611253057358461,5.636203480180083,6.625610298303718,7.049558422849875,8.476429349601808,3.5772855746305563,4.170624765381263,5.246692474652926,5.996648287662621,6.493948121454532,6.968949431679695])|[-2.1749975495551026,2.1749975495551026]  |[0.10201829367554428,0.8979817063244557]|1.0       |\n",
      "|7  |Elon Musks irresponsible tweets have caused more people to get liquidated than any other Crypto event in history.Do not invest over his words.|[elon, musks, irresponsible, tweets, have, caused, more, people, to, get, liquidated, than, any, other, crypto, event, in, history.do, not, invest, over, his, words.]|[elon, musks, irresponsible, tweets, have, caused, more, people, to, get, liquidated, than, any, other, crypto, event, in, history.do, not, invest, over, his, words.]|[elon musks, musks irresponsible, irresponsible tweets, tweets have, have caused, caused more, more people, people to, to get, get liquidated, liquidated than, than any, any other, other crypto, crypto event, event in, in history.do, history.do not, not invest, invest over, over his, his words.]|[elon musks irresponsible, musks irresponsible tweets, irresponsible tweets have, tweets have caused, have caused more, caused more people, more people to, people to get, to get liquidated, get liquidated than, liquidated than any, than any other, any other crypto, other crypto event, crypto event in, event in history.do, in history.do not, history.do not invest, not invest over, invest over his, over his words.]|(5460,[1,9,18,25,35,84,130,143,182,183,197,259,407,1233,4935],[1.0,1.0,1.0,1.0,1.0,1.0,1.0,1.0,1.0,1.0,1.0,1.0,1.0,1.0,1.0])|(5460,[24,2727,4687,5258],[1.0,1.0,1.0,1.0])                   |(5460,[],[])               |(5460,[1,9,18,25,35,84,130,143,182,183,197,259,407,1233,4935],[1.248161111474001,2.078293877707609,2.4457219683015934,2.7255428135015776,3.0033599023916833,3.780925092033868,4.240413048949851,4.381880309309269,4.694263513436301,4.652801835328095,4.71737163278525,5.025079405739326,5.526837379966963,7.014111673854128,8.916219200251048]) |(5460,[24,2727,4687,5258],[4.263847412778662,7.747133654925553,8.261911853007366,8.382793744567817])                                             |(5460,[],[])                                           |(16380,[1,9,18,25,35,84,130,143,182,183,197,259,407,1233,4935,5484,8187,10147,10718],[1.248161111474001,2.078293877707609,2.4457219683015934,2.7255428135015776,3.0033599023916833,3.780925092033868,4.240413048949851,4.381880309309269,4.694263513436301,4.652801835328095,4.71737163278525,5.025079405739326,5.526837379966963,7.014111673854128,8.916219200251048,4.263847412778662,7.747133654925553,8.261911853007366,8.382793744567817])                                                |[0.8242220501692262,-0.8242220501692262]  |[0.6951318284741383,0.30486817152586165]|0.0       |\n",
      "|8  |very very ugly                                                                                                                                |[very, very, ugly]                                                                                                                                                    |[very, very, ugly]                                                                                                                                                    |[very very, very ugly]                                                                                                                                                                                                                                                                                  |[very very ugly]                                                                                                                                                                                                                                                                                                                                                                                                                |(5460,[117,1580],[2.0,1.0])                                                                                                 |(5460,[1332],[1.0])                                            |(5460,[],[])               |(5460,[117,1580],[8.311023082751639,7.345621121133211])                                                                                                                                                                                                                                                                                          |(5460,[1332],[7.318275667242682])                                                                                                                |(5460,[],[])                                           |(16380,[117,1580,6792],[8.311023082751639,7.345621121133211,7.318275667242682])                                                                                                                                                                                                                                                                                                                                                                                                                |[0.6048450540285076,-0.6048450540285076]  |[0.6467639943552557,0.35323600564474433]|0.0       |\n",
      "+---+----------------------------------------------------------------------------------------------------------------------------------------------+----------------------------------------------------------------------------------------------------------------------------------------------------------------------+----------------------------------------------------------------------------------------------------------------------------------------------------------------------+--------------------------------------------------------------------------------------------------------------------------------------------------------------------------------------------------------------------------------------------------------------------------------------------------------+--------------------------------------------------------------------------------------------------------------------------------------------------------------------------------------------------------------------------------------------------------------------------------------------------------------------------------------------------------------------------------------------------------------------------------+----------------------------------------------------------------------------------------------------------------------------+---------------------------------------------------------------+---------------------------+-------------------------------------------------------------------------------------------------------------------------------------------------------------------------------------------------------------------------------------------------------------------------------------------------------------------------------------------------+-------------------------------------------------------------------------------------------------------------------------------------------------+-------------------------------------------------------+-----------------------------------------------------------------------------------------------------------------------------------------------------------------------------------------------------------------------------------------------------------------------------------------------------------------------------------------------------------------------------------------------------------------------------------------------------------------------------------------------+------------------------------------------+----------------------------------------+----------+\n",
      "\n"
     ]
    }
   ],
   "source": [
    "ctest_predictions = trigramwocs_pipelineFit.transform(tdf)\n",
    "ctest_predictions.show(tdf.count(),False)"
   ]
  },
  {
   "cell_type": "code",
   "execution_count": null,
   "metadata": {},
   "outputs": [],
   "source": []
  }
 ],
 "metadata": {
  "kernelspec": {
   "display_name": "Python 3",
   "language": "python",
   "name": "python3"
  },
  "language_info": {
   "codemirror_mode": {
    "name": "ipython",
    "version": 3
   },
   "file_extension": ".py",
   "mimetype": "text/x-python",
   "name": "python",
   "nbconvert_exporter": "python",
   "pygments_lexer": "ipython3",
   "version": "3.8.5"
  }
 },
 "nbformat": 4,
 "nbformat_minor": 4
}
